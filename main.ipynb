{
 "cells": [
  {
   "cell_type": "code",
   "execution_count": 4,
   "metadata": {},
   "outputs": [],
   "source": [
    "import pandas as pd\n",
    "from sklearn.model_selection import train_test_split\n",
    "import matplotlib.pyplot as plt\n",
    "import seaborn as sns"
   ]
  },
  {
   "cell_type": "code",
   "execution_count": 5,
   "metadata": {},
   "outputs": [],
   "source": [
    "def plot_column(df, title):\n",
    "    plt.hist(df[title], bins=100)\n",
    "    plt.title(title)\n",
    "    plt.show()"
   ]
  },
  {
   "cell_type": "code",
   "execution_count": 24,
   "metadata": {},
   "outputs": [
    {
     "data": {
      "text/html": [
       "<div>\n",
       "<style scoped>\n",
       "    .dataframe tbody tr th:only-of-type {\n",
       "        vertical-align: middle;\n",
       "    }\n",
       "\n",
       "    .dataframe tbody tr th {\n",
       "        vertical-align: top;\n",
       "    }\n",
       "\n",
       "    .dataframe thead th {\n",
       "        text-align: right;\n",
       "    }\n",
       "</style>\n",
       "<table border=\"1\" class=\"dataframe\">\n",
       "  <thead>\n",
       "    <tr style=\"text-align: right;\">\n",
       "      <th></th>\n",
       "      <th>number of adults</th>\n",
       "      <th>number of weekend nights</th>\n",
       "      <th>number of week nights</th>\n",
       "      <th>type of meal</th>\n",
       "      <th>room type</th>\n",
       "      <th>lead time</th>\n",
       "      <th>market segment type</th>\n",
       "      <th>average price</th>\n",
       "      <th>special requests</th>\n",
       "      <th>booking status</th>\n",
       "    </tr>\n",
       "  </thead>\n",
       "  <tbody>\n",
       "    <tr>\n",
       "      <th>1</th>\n",
       "      <td>1</td>\n",
       "      <td>1</td>\n",
       "      <td>3</td>\n",
       "      <td>0</td>\n",
       "      <td>0</td>\n",
       "      <td>5</td>\n",
       "      <td>0</td>\n",
       "      <td>106.68</td>\n",
       "      <td>1</td>\n",
       "      <td>0</td>\n",
       "    </tr>\n",
       "    <tr>\n",
       "      <th>3</th>\n",
       "      <td>1</td>\n",
       "      <td>0</td>\n",
       "      <td>2</td>\n",
       "      <td>1</td>\n",
       "      <td>0</td>\n",
       "      <td>211</td>\n",
       "      <td>0</td>\n",
       "      <td>100.00</td>\n",
       "      <td>1</td>\n",
       "      <td>1</td>\n",
       "    </tr>\n",
       "    <tr>\n",
       "      <th>4</th>\n",
       "      <td>1</td>\n",
       "      <td>1</td>\n",
       "      <td>2</td>\n",
       "      <td>0</td>\n",
       "      <td>0</td>\n",
       "      <td>48</td>\n",
       "      <td>0</td>\n",
       "      <td>77.00</td>\n",
       "      <td>0</td>\n",
       "      <td>1</td>\n",
       "    </tr>\n",
       "    <tr>\n",
       "      <th>5</th>\n",
       "      <td>1</td>\n",
       "      <td>0</td>\n",
       "      <td>2</td>\n",
       "      <td>2</td>\n",
       "      <td>0</td>\n",
       "      <td>346</td>\n",
       "      <td>1</td>\n",
       "      <td>100.00</td>\n",
       "      <td>1</td>\n",
       "      <td>1</td>\n",
       "    </tr>\n",
       "    <tr>\n",
       "      <th>7</th>\n",
       "      <td>3</td>\n",
       "      <td>1</td>\n",
       "      <td>3</td>\n",
       "      <td>1</td>\n",
       "      <td>1</td>\n",
       "      <td>83</td>\n",
       "      <td>0</td>\n",
       "      <td>105.61</td>\n",
       "      <td>1</td>\n",
       "      <td>0</td>\n",
       "    </tr>\n",
       "    <tr>\n",
       "      <th>...</th>\n",
       "      <td>...</td>\n",
       "      <td>...</td>\n",
       "      <td>...</td>\n",
       "      <td>...</td>\n",
       "      <td>...</td>\n",
       "      <td>...</td>\n",
       "      <td>...</td>\n",
       "      <td>...</td>\n",
       "      <td>...</td>\n",
       "      <td>...</td>\n",
       "    </tr>\n",
       "    <tr>\n",
       "      <th>36280</th>\n",
       "      <td>2</td>\n",
       "      <td>0</td>\n",
       "      <td>2</td>\n",
       "      <td>2</td>\n",
       "      <td>0</td>\n",
       "      <td>346</td>\n",
       "      <td>0</td>\n",
       "      <td>115.00</td>\n",
       "      <td>1</td>\n",
       "      <td>1</td>\n",
       "    </tr>\n",
       "    <tr>\n",
       "      <th>36281</th>\n",
       "      <td>2</td>\n",
       "      <td>1</td>\n",
       "      <td>3</td>\n",
       "      <td>1</td>\n",
       "      <td>0</td>\n",
       "      <td>34</td>\n",
       "      <td>0</td>\n",
       "      <td>107.55</td>\n",
       "      <td>1</td>\n",
       "      <td>0</td>\n",
       "    </tr>\n",
       "    <tr>\n",
       "      <th>36282</th>\n",
       "      <td>2</td>\n",
       "      <td>1</td>\n",
       "      <td>3</td>\n",
       "      <td>1</td>\n",
       "      <td>1</td>\n",
       "      <td>83</td>\n",
       "      <td>0</td>\n",
       "      <td>105.61</td>\n",
       "      <td>1</td>\n",
       "      <td>0</td>\n",
       "    </tr>\n",
       "    <tr>\n",
       "      <th>36283</th>\n",
       "      <td>3</td>\n",
       "      <td>0</td>\n",
       "      <td>4</td>\n",
       "      <td>1</td>\n",
       "      <td>0</td>\n",
       "      <td>121</td>\n",
       "      <td>1</td>\n",
       "      <td>96.90</td>\n",
       "      <td>1</td>\n",
       "      <td>0</td>\n",
       "    </tr>\n",
       "    <tr>\n",
       "      <th>36284</th>\n",
       "      <td>2</td>\n",
       "      <td>0</td>\n",
       "      <td>5</td>\n",
       "      <td>1</td>\n",
       "      <td>1</td>\n",
       "      <td>44</td>\n",
       "      <td>0</td>\n",
       "      <td>133.44</td>\n",
       "      <td>3</td>\n",
       "      <td>0</td>\n",
       "    </tr>\n",
       "  </tbody>\n",
       "</table>\n",
       "<p>31817 rows × 10 columns</p>\n",
       "</div>"
      ],
      "text/plain": [
       "       number of adults  number of weekend nights  number of week nights  \\\n",
       "1                     1                         1                      3   \n",
       "3                     1                         0                      2   \n",
       "4                     1                         1                      2   \n",
       "5                     1                         0                      2   \n",
       "7                     3                         1                      3   \n",
       "...                 ...                       ...                    ...   \n",
       "36280                 2                         0                      2   \n",
       "36281                 2                         1                      3   \n",
       "36282                 2                         1                      3   \n",
       "36283                 3                         0                      4   \n",
       "36284                 2                         0                      5   \n",
       "\n",
       "       type of meal  room type  lead time  market segment type  average price  \\\n",
       "1                 0          0          5                    0         106.68   \n",
       "3                 1          0        211                    0         100.00   \n",
       "4                 0          0         48                    0          77.00   \n",
       "5                 2          0        346                    1         100.00   \n",
       "7                 1          1         83                    0         105.61   \n",
       "...             ...        ...        ...                  ...            ...   \n",
       "36280             2          0        346                    0         115.00   \n",
       "36281             1          0         34                    0         107.55   \n",
       "36282             1          1         83                    0         105.61   \n",
       "36283             1          0        121                    1          96.90   \n",
       "36284             1          1         44                    0         133.44   \n",
       "\n",
       "       special requests  booking status  \n",
       "1                     1               0  \n",
       "3                     1               1  \n",
       "4                     0               1  \n",
       "5                     1               1  \n",
       "7                     1               0  \n",
       "...                 ...             ...  \n",
       "36280                 1               1  \n",
       "36281                 1               0  \n",
       "36282                 1               0  \n",
       "36283                 1               0  \n",
       "36284                 3               0  \n",
       "\n",
       "[31817 rows x 10 columns]"
      ]
     },
     "execution_count": 24,
     "metadata": {},
     "output_type": "execute_result"
    }
   ],
   "source": [
    "df = pd.read_csv(\"./data/booking.csv\")\n",
    "\n",
    "# pre-processing\n",
    "df = df[df['repeated'] == 0]\n",
    "df = df[df['P-C'] == 0]\n",
    "df = df[df['P-not-C'] == 0]\n",
    "df = df[df['car parking space'] == 0]\n",
    "df = df[df['number of children'] == 0]\n",
    "\n",
    "df = df.drop(columns=[\"Booking_ID\", \"date of reservation\", \"repeated\", \"P-C\", \"P-not-C\", \"car parking space\", \"number of children\"])\n",
    "\n",
    "df['type of meal'] = pd.factorize(df['type of meal'])[0]\n",
    "df['room type'] = pd.factorize(df['room type'])[0]\n",
    "df['market segment type'] = pd.factorize(df['market segment type'])[0]\n",
    "df['booking status'] = pd.factorize(df['booking status'])[0]\n",
    "\n",
    "# canceled -> 1\n",
    "\n",
    "df"
   ]
  },
  {
   "cell_type": "code",
   "execution_count": 7,
   "metadata": {},
   "outputs": [
    {
     "name": "stdout",
     "output_type": "stream",
     "text": [
      "0\n"
     ]
    }
   ],
   "source": [
    "# null kontrolu\n",
    "null_rows = df.isnull().any(axis=1)\n",
    "print(null_rows.sum())"
   ]
  },
  {
   "cell_type": "code",
   "execution_count": 23,
   "metadata": {},
   "outputs": [
    {
     "data": {
      "image/png": "[encoded data removed]",
      "text/plain": [
       "<Figure size 640x480 with 1 Axes>"
      ]
     },
     "metadata": {},
     "output_type": "display_data"
    }
   ],
   "source": [
    "plot_column(df, \"booking status\")"
   ]
  },
  {
   "cell_type": "code",
   "execution_count": 26,
   "metadata": {},
   "outputs": [
    {
     "data": {
      "image/png": "[encoded data removed]",
      "text/plain": [
       "<Figure size 640x480 with 2 Axes>"
      ]
     },
     "metadata": {},
     "output_type": "display_data"
    },
    {
     "data": {
      "text/plain": [
       "number of adults            0.074119\n",
       "number of weekend nights    0.049520\n",
       "number of week nights       0.074271\n",
       "type of meal                0.047000\n",
       "room type                  -0.002810\n",
       "lead time                   0.430793\n",
       "market segment type        -0.110829\n",
       "average price               0.131809\n",
       "special requests           -0.249261\n",
       "booking status              1.000000\n",
       "Name: booking status, dtype: float64"
      ]
     },
     "execution_count": 26,
     "metadata": {},
     "output_type": "execute_result"
    }
   ],
   "source": [
    "corr_matrix = df.corr()\n",
    "sns.heatmap(corr_matrix)\n",
    "plt.show()\n",
    "\n",
    "corr_matrix[\"booking status\"]"
   ]
  },
  {
   "cell_type": "code",
   "execution_count": null,
   "metadata": {},
   "outputs": [],
   "source": [
    "lead_time_for_cancelled = df.loc[df['booking status'] == 1, 'lead time']\n",
    "lead_time_for_not_cancelled = df.loc[df['booking status'] == 0, 'lead time']"
   ]
  },
  {
   "cell_type": "code",
   "execution_count": null,
   "metadata": {},
   "outputs": [],
   "source": [
    "max(df[\"lead time\"])"
   ]
  },
  {
   "cell_type": "code",
   "execution_count": null,
   "metadata": {},
   "outputs": [],
   "source": [
    "# Create density plots for the two arrays\n",
    "sns.kdeplot(lead_time_for_cancelled, label='Cancelled', shade=True)\n",
    "sns.kdeplot(lead_time_for_not_cancelled, label='Not Cancelled', shade=True)\n",
    "\n",
    "# Add labels and a legend\n",
    "plt.xlabel('Lead Time')\n",
    "plt.ylabel('Density')\n",
    "plt.legend()\n",
    "\n",
    "plt.xlim(0, max(df[\"lead time\"]))\n",
    "\n",
    "# Show the plot\n",
    "plt.show()"
   ]
  },
  {
   "cell_type": "code",
   "execution_count": null,
   "metadata": {},
   "outputs": [],
   "source": [
    "# ML models"
   ]
  },
  {
   "cell_type": "code",
   "execution_count": null,
   "metadata": {},
   "outputs": [],
   "source": [
    "df_X = df.drop(columns=[\"booking status\"])\n",
    "df_Y = df[\"booking status\"]\n",
    "\n",
    "X_train, X_test, y_train, y_test = train_test_split(df_X, df_Y, test_size=0.2, train_size=0.8, shuffle=True, random_state=5)"
   ]
  },
  {
   "cell_type": "code",
   "execution_count": null,
   "metadata": {},
   "outputs": [],
   "source": [
    "import numpy as np\n",
    "import pandas as pd\n",
    "from sklearn.metrics import accuracy_score\n",
    "from sklearn.datasets import load_iris  # You can replace this with your own dataset\n",
    "from sklearn.linear_model import LogisticRegression\n",
    "from sklearn.tree import DecisionTreeClassifier\n",
    "from sklearn.ensemble import RandomForestClassifier\n",
    "from sklearn.svm import SVC\n",
    "from sklearn.neighbors import KNeighborsClassifier\n",
    "from sklearn.naive_bayes import GaussianNB\n",
    "\n",
    "\n",
    "classifiers = {\n",
    "    \"Logistic Regression\": LogisticRegression(),\n",
    "    \"Decision Tree\": DecisionTreeClassifier(),\n",
    "    \"Random Forest\": RandomForestClassifier(),\n",
    "    \"Support Vector Machine\": SVC(),\n",
    "    \"K-Nearest Neighbors\": KNeighborsClassifier(),\n",
    "    \"Naive Bayes\": GaussianNB(),\n",
    "}\n",
    "\n",
    "# Initialize an empty DataFrame to store the results\n",
    "results_df = pd.DataFrame(columns=[\"Classifier\", \"Accuracy\"])\n",
    "\n",
    "# Train and evaluate each classifier\n",
    "for clf_name, clf in classifiers.items():\n",
    "    clf.fit(X_train, y_train)\n",
    "    y_pred = clf.predict(X_test)\n",
    "    accuracy = accuracy_score(y_test, y_pred)\n",
    "    results_df = results_df.append({\"Classifier\": clf_name, \"Accuracy\": accuracy}, ignore_index=True)\n",
    "\n",
    "print(results_df)"
   ]
  },
  {
   "cell_type": "code",
   "execution_count": null,
   "metadata": {},
   "outputs": [],
   "source": [
    "results_df"
   ]
  },
  {
   "cell_type": "code",
   "execution_count": null,
   "metadata": {},
   "outputs": [],
   "source": [
    "random_elements = df_X.sample(n=2)\n",
    "clf.predict(random_elements)"
   ]
  },
  {
   "cell_type": "code",
   "execution_count": null,
   "metadata": {},
   "outputs": [],
   "source": [
    "# gelecek olan customerları 5 kümeye ayır. yeni gelen 0 olan müşteriyi ilgili kümeye at, bu kümenin average lead timenı bul.\n",
    "\n",
    "X_train_no_lead_time = X_train.drop(columns=[\"lead time\"])\n",
    "\n",
    "indices = y_train[y_train == 0].index\n",
    "X_train_only_notcancelled = X_train_no_lead_time.loc[indices]"
   ]
  },
  {
   "cell_type": "code",
   "execution_count": null,
   "metadata": {},
   "outputs": [],
   "source": [
    "from sklearn.cluster import KMeans, AgglomerativeClustering, MiniBatchKMeans, SpectralClustering\n",
    "from sklearn.metrics import silhouette_score, calinski_harabasz_score, davies_bouldin_score\n",
    "\n",
    "\n",
    "clusterers = {\n",
    "    'KMeans': KMeans(n_clusters=5),  # Adjust the number of clusters as needed\n",
    "    'Agglomerative': AgglomerativeClustering(n_clusters=5),\n",
    "    \"MiniBatchKMeans\": MiniBatchKMeans(n_clusters=5)\n",
    "}\n",
    "\n",
    "# DataFrame to store the results\n",
    "results = pd.DataFrame(columns=['Model', 'Silhouette Score', 'Calinski-Harabasz Index', 'Davies-Bouldin Index'])\n",
    "\n",
    "# Fit the models and compute the metrics\n",
    "for name, clusterer in clusterers.items():\n",
    "    # Fit the model\n",
    "    labels = clusterer.fit_predict(X_train_only_notcancelled)\n",
    "\n",
    "    # Compute metrics\n",
    "    silhouette = silhouette_score(X_train_only_notcancelled, labels)\n",
    "    calinski = calinski_harabasz_score(X_train_only_notcancelled, labels)\n",
    "    davies = davies_bouldin_score(X_train_only_notcancelled, labels)\n",
    "\n",
    "    # Append the results\n",
    "    results = results.append({\n",
    "        'Model': name,\n",
    "        'Silhouette Score': silhouette,\n",
    "        'Calinski-Harabasz Index': calinski,\n",
    "        'Davies-Bouldin Index': davies\n",
    "    }, ignore_index=True)\n",
    "\n",
    "    print(\"bitti\")\n",
    "\n",
    "print(results)"
   ]
  },
  {
   "cell_type": "code",
   "execution_count": 89,
   "metadata": {},
   "outputs": [
    {
     "data": {
      "text/plain": [
       "array([1], dtype=int64)"
      ]
     },
     "execution_count": 89,
     "metadata": {},
     "output_type": "execute_result"
    }
   ],
   "source": [
    "random_elements = df_X.sample(n=1)\n",
    "clf.predict(random_elements)\n"
   ]
  },
  {
   "cell_type": "code",
   "execution_count": 108,
   "metadata": {},
   "outputs": [
    {
     "name": "stderr",
     "output_type": "stream",
     "text": [
      "C:\\Users\\leonr\\AppData\\Local\\Temp\\ipykernel_17288\\1023329292.py:9: FutureWarning: \n",
      "\n",
      "`shade` is now deprecated in favor of `fill`; setting `fill=True`.\n",
      "This will become an error in seaborn v0.14.0; please update your code.\n",
      "\n",
      "  sns.kdeplot(points[\"lead time\"], label='Not Cancelled', shade=True)\n"
     ]
    },
    {
     "data": {
      "image/png": "[encoded data removed]",
      "text/plain": [
       "<Figure size 640x480 with 1 Axes>"
      ]
     },
     "metadata": {},
     "output_type": "display_data"
    },
    {
     "name": "stdout",
     "output_type": "stream",
     "text": [
      "50.245897796530706\n"
     ]
    }
   ],
   "source": [
    "random_elements = random_elements.drop(columns=[\"lead time\"])\n",
    "cluster_index = clusterer.predict(random_elements)\n",
    "\n",
    "cluster_labels = clusterer.labels_\n",
    "cluster_data_points = X_train_only_notcancelled[cluster_labels == cluster_index]\n",
    "\n",
    "points = X_train.loc[cluster_data_points.index]\n",
    "\n",
    "lead_times_in_this_cluster = points[\"lead time\"]\n",
    "\n",
    "sns.kdeplot(points[\"lead time\"], label='Not Cancelled', shade=True)\n",
    "\n",
    "# Add labels and a legend\n",
    "plt.xlabel('Lead Time')\n",
    "plt.ylabel('Density')\n",
    "plt.legend()\n",
    "\n",
    "plt.xlim(min(lead_times_in_this_cluster), max(lead_times_in_this_cluster))\n",
    "\n",
    "# Show the plot\n",
    "plt.show()\n",
    "\n",
    "print(np.mean(lead_times_in_this_cluster))"
   ]
  },
  {
   "cell_type": "code",
   "execution_count": 96,
   "metadata": {},
   "outputs": [
    {
     "data": {
      "text/html": [
       "<div>\n",
       "<style scoped>\n",
       "    .dataframe tbody tr th:only-of-type {\n",
       "        vertical-align: middle;\n",
       "    }\n",
       "\n",
       "    .dataframe tbody tr th {\n",
       "        vertical-align: top;\n",
       "    }\n",
       "\n",
       "    .dataframe thead th {\n",
       "        text-align: right;\n",
       "    }\n",
       "</style>\n",
       "<table border=\"1\" class=\"dataframe\">\n",
       "  <thead>\n",
       "    <tr style=\"text-align: right;\">\n",
       "      <th></th>\n",
       "      <th>number of adults</th>\n",
       "      <th>number of weekend nights</th>\n",
       "      <th>number of week nights</th>\n",
       "      <th>type of meal</th>\n",
       "      <th>room type</th>\n",
       "      <th>lead time</th>\n",
       "      <th>market segment type</th>\n",
       "      <th>average price</th>\n",
       "      <th>special requests</th>\n",
       "    </tr>\n",
       "  </thead>\n",
       "  <tbody>\n",
       "    <tr>\n",
       "      <th>21877</th>\n",
       "      <td>1</td>\n",
       "      <td>2</td>\n",
       "      <td>5</td>\n",
       "      <td>0</td>\n",
       "      <td>0</td>\n",
       "      <td>141</td>\n",
       "      <td>0</td>\n",
       "      <td>118.8</td>\n",
       "      <td>1</td>\n",
       "    </tr>\n",
       "  </tbody>\n",
       "</table>\n",
       "</div>"
      ],
      "text/plain": [
       "       number of adults  number of weekend nights  number of week nights  \\\n",
       "21877                 1                         2                      5   \n",
       "\n",
       "       type of meal  room type  lead time  market segment type  average price  \\\n",
       "21877             0          0        141                    0          118.8   \n",
       "\n",
       "       special requests  \n",
       "21877                 1  "
      ]
     },
     "execution_count": 96,
     "metadata": {},
     "output_type": "execute_result"
    }
   ],
   "source": [
    "X_train.loc[random_elements.index]"
   ]
  },
  {
   "cell_type": "code",
   "execution_count": 103,
   "metadata": {},
   "outputs": [
    {
     "data": {
      "text/plain": [
       "50.245897796530706"
      ]
     },
     "execution_count": 103,
     "metadata": {},
     "output_type": "execute_result"
    }
   ],
   "source": [
    "np.mean(lead_times_in_this_cluster)"
   ]
  },
  {
   "cell_type": "code",
   "execution_count": null,
   "metadata": {},
   "outputs": [],
   "source": []
  }
 ],
 "metadata": {
  "kernelspec": {
   "display_name": "torch_dev",
   "language": "python",
   "name": "python3"
  },
  "language_info": {
   "codemirror_mode": {
    "name": "ipython",
    "version": 3
   },
   "file_extension": ".py",
   "mimetype": "text/x-python",
   "name": "python",
   "nbconvert_exporter": "python",
   "pygments_lexer": "ipython3",
   "version": "3.10.8"
  }
 },
 "nbformat": 4,
 "nbformat_minor": 2
}
